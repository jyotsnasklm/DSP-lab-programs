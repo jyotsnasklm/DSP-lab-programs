{
 "cells": [
  {
   "cell_type": "markdown",
   "id": "8248edac",
   "metadata": {},
   "source": [
    "# multiple regression"
   ]
  },
  {
   "cell_type": "code",
   "execution_count": 1,
   "id": "1e2613be",
   "metadata": {},
   "outputs": [],
   "source": [
    "import numpy as np\n",
    "from sklearn.linear_model import LinearRegression"
   ]
  },
  {
   "cell_type": "code",
   "execution_count": 2,
   "id": "48975114",
   "metadata": {},
   "outputs": [],
   "source": [
    "x=[[0,1],[5,1],[15,2],[25,5],[35,11],[45,15],[55,34],[60,35]]\n",
    "y=[4,5,20,14,32,22,38,43]\n",
    "x,y=np.array(x),np.array(y)"
   ]
  },
  {
   "cell_type": "code",
   "execution_count": 3,
   "id": "c6d5abbc",
   "metadata": {},
   "outputs": [
    {
     "data": {
      "text/plain": [
       "array([[ 0,  1],\n",
       "       [ 5,  1],\n",
       "       [15,  2],\n",
       "       [25,  5],\n",
       "       [35, 11],\n",
       "       [45, 15],\n",
       "       [55, 34],\n",
       "       [60, 35]])"
      ]
     },
     "execution_count": 3,
     "metadata": {},
     "output_type": "execute_result"
    }
   ],
   "source": [
    "x"
   ]
  },
  {
   "cell_type": "code",
   "execution_count": 4,
   "id": "603fee34",
   "metadata": {},
   "outputs": [
    {
     "data": {
      "text/plain": [
       "array([ 4,  5, 20, 14, 32, 22, 38, 43])"
      ]
     },
     "execution_count": 4,
     "metadata": {},
     "output_type": "execute_result"
    }
   ],
   "source": [
    "y"
   ]
  },
  {
   "cell_type": "code",
   "execution_count": 5,
   "id": "67a5bbc6",
   "metadata": {},
   "outputs": [],
   "source": [
    "model=LinearRegression().fit(x,y)"
   ]
  },
  {
   "cell_type": "code",
   "execution_count": 6,
   "id": "5fe73d8f",
   "metadata": {},
   "outputs": [
    {
     "name": "stdout",
     "output_type": "stream",
     "text": [
      "coefficient of determination:0.8615939258756776\n"
     ]
    }
   ],
   "source": [
    "r_sq=model.score(x,y)\n",
    "print(f\"coefficient of determination:{r_sq}\")"
   ]
  },
  {
   "cell_type": "code",
   "execution_count": 7,
   "id": "5ce3a1f5",
   "metadata": {},
   "outputs": [
    {
     "name": "stdout",
     "output_type": "stream",
     "text": [
      "intercept:5.522579275198183\n",
      "scope:[0.44706965 0.25502548]\n"
     ]
    }
   ],
   "source": [
    "print(f\"intercept:{model.intercept_}\")\n",
    "print(f\"scope:{model.coef_}\")"
   ]
  },
  {
   "cell_type": "code",
   "execution_count": 8,
   "id": "2188055b",
   "metadata": {},
   "outputs": [
    {
     "name": "stdout",
     "output_type": "stream",
     "text": [
      "predicted response:/n[ 5.77760476  8.012953   12.73867497 17.9744479  23.97529728 29.4660957\n",
      " 38.78227633 41.27265006]\n"
     ]
    }
   ],
   "source": [
    "#predict result\n",
    "y_pred=model.predict(x)\n",
    "print(f\"predicted response:/n{y_pred}\")"
   ]
  },
  {
   "cell_type": "code",
   "execution_count": 9,
   "id": "50cc7cd7",
   "metadata": {},
   "outputs": [],
   "source": [
    "y_pred=model.intercept_+np.sum(model.coef_*x,axis=1)"
   ]
  },
  {
   "cell_type": "code",
   "execution_count": 10,
   "id": "3e4d9eb8",
   "metadata": {},
   "outputs": [
    {
     "name": "stdout",
     "output_type": "stream",
     "text": [
      "predictedresponse:/n[ 5.77760476  8.012953   12.73867497 17.9744479  23.97529728 29.4660957\n",
      " 38.78227633 41.27265006]\n"
     ]
    }
   ],
   "source": [
    "print(f\"predictedresponse:/n{y_pred}\")"
   ]
  },
  {
   "cell_type": "code",
   "execution_count": 11,
   "id": "2158554d",
   "metadata": {},
   "outputs": [],
   "source": [
    "x_new=np.arange(10).reshape((-1,2))\n",
    "y_new=model.predict(x_new)"
   ]
  },
  {
   "cell_type": "code",
   "execution_count": 12,
   "id": "299517af",
   "metadata": {},
   "outputs": [
    {
     "data": {
      "text/plain": [
       "array([[0, 1],\n",
       "       [2, 3],\n",
       "       [4, 5],\n",
       "       [6, 7],\n",
       "       [8, 9]])"
      ]
     },
     "execution_count": 12,
     "metadata": {},
     "output_type": "execute_result"
    }
   ],
   "source": [
    "x_new"
   ]
  },
  {
   "cell_type": "code",
   "execution_count": 13,
   "id": "3aae45de",
   "metadata": {},
   "outputs": [
    {
     "data": {
      "text/plain": [
       "array([ 5.77760476,  7.18179502,  8.58598528,  9.99017554, 11.3943658 ])"
      ]
     },
     "execution_count": 13,
     "metadata": {},
     "output_type": "execute_result"
    }
   ],
   "source": [
    "y_new"
   ]
  },
  {
   "cell_type": "code",
   "execution_count": null,
   "id": "840910ac",
   "metadata": {},
   "outputs": [],
   "source": []
  }
 ],
 "metadata": {
  "kernelspec": {
   "display_name": "Python 3 (ipykernel)",
   "language": "python",
   "name": "python3"
  },
  "language_info": {
   "codemirror_mode": {
    "name": "ipython",
    "version": 3
   },
   "file_extension": ".py",
   "mimetype": "text/x-python",
   "name": "python",
   "nbconvert_exporter": "python",
   "pygments_lexer": "ipython3",
   "version": "3.9.12"
  }
 },
 "nbformat": 4,
 "nbformat_minor": 5
}
